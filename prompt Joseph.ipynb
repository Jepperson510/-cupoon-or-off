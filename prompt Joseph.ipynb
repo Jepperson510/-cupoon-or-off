{
 "cells": [
  {
   "cell_type": "markdown",
   "metadata": {
    "id": "CcUT6Fon_qRE",
    "jp-MarkdownHeadingCollapsed": true
   },
   "source": [
    "### Required Assignment 5.1: Will the Customer Accept the Coupon?\n",
    "\n",
    "**Context**\n",
    "\n",
    "Imagine driving through town and a coupon is delivered to your cell phone for a restaurant near where you are driving. Would you accept that coupon and take a short detour to the restaurant? Would you accept the coupon but use it on a subsequent trip? Would you ignore the coupon entirely? What if the coupon was for a bar instead of a restaurant? What about a coffee house? Would you accept a bar coupon with a minor passenger in the car? What about if it was just you and your partner in the car? Would weather impact the rate of acceptance? What about the time of day?\n",
    "\n",
    "Obviously, proximity to the business is a factor on whether the coupon is delivered to the driver or not, but what are the factors that determine whether a driver accepts the coupon once it is delivered to them? How would you determine whether a driver is likely to accept a coupon?\n",
    "\n",
    "**Overview**\n",
    "\n",
    "The goal of this project is to use what you know about visualizations and probability distributions to distinguish between customers who accepted a driving coupon versus those that did not.\n",
    "\n",
    "**Data**\n",
    "\n",
    "This data comes to us from the UCI Machine Learning repository and was collected via a survey on Amazon Mechanical Turk. The survey describes different driving scenarios including the destination, current time, weather, passenger, etc., and then ask the person whether he will accept the coupon if he is the driver. Answers that the user will drive there ‘right away’ or ‘later before the coupon expires’ are labeled as ‘Y = 1’ and answers ‘no, I do not want the coupon’ are labeled as ‘Y = 0’.  There are five different types of coupons -- less expensive restaurants (under \\$20), coffee houses, carry out & take away, bar, and more expensive restaurants (\\$20 - $50)."
   ]
  },
  {
   "cell_type": "markdown",
   "metadata": {
    "id": "1wORvMBJ_qRF"
   },
   "source": [
    "**Deliverables**\n",
    "\n",
    "Your final product should be a brief report that highlights the differences between customers who did and did not accept the coupons.  To explore the data you will utilize your knowledge of plotting, statistical summaries, and visualization using Python. You will publish your findings in a public facing github repository as your first portfolio piece.\n",
    "\n",
    "\n",
    "\n"
   ]
  },
  {
   "cell_type": "markdown",
   "metadata": {
    "id": "pG6_Ym6q_qRG"
   },
   "source": [
    "### Data Description\n",
    "Keep in mind that these values mentioned below are average values.\n",
    "\n",
    "The attributes of this data set include:\n",
    "1. User attributes\n",
    "    -  Gender: male, female\n",
    "    -  Age: below 21, 21 to 25, 26 to 30, etc.\n",
    "    -  Marital Status: single, married partner, unmarried partner, or widowed\n",
    "    -  Number of children: 0, 1, or more than 1\n",
    "    -  Education: high school, bachelors degree, associates degree, or graduate degree\n",
    "    -  Occupation: architecture & engineering, business & financial, etc.\n",
    "    -  Annual income: less than \\\\$12500, \\\\$12500 - \\\\$24999, \\\\$25000 - \\\\$37499, etc.\n",
    "    -  Number of times that he/she goes to a bar: 0, less than 1, 1 to 3, 4 to 8 or greater than 8\n",
    "    -  Number of times that he/she buys takeaway food: 0, less than 1, 1 to 3, 4 to 8 or greater\n",
    "    than 8\n",
    "    -  Number of times that he/she goes to a coffee house: 0, less than 1, 1 to 3, 4 to 8 or\n",
    "    greater than 8\n",
    "    -  Number of times that he/she eats at a restaurant with average expense less than \\\\$20 per\n",
    "    person: 0, less than 1, 1 to 3, 4 to 8 or greater than 8\n",
    "    -  Number of times that he/she goes to a bar: 0, less than 1, 1 to 3, 4 to 8 or greater than 8\n",
    "    \n",
    "\n",
    "2. Contextual attributes\n",
    "    - Driving destination: home, work, or no urgent destination\n",
    "    - Location of user, coupon and destination: we provide a map to show the geographical\n",
    "    location of the user, destination, and the venue, and we mark the distance between each\n",
    "    two places with time of driving. The user can see whether the venue is in the same\n",
    "    direction as the destination.\n",
    "    - Weather: sunny, rainy, or snowy\n",
    "    - Temperature: 30F, 55F, or 80F\n",
    "    - Time: 10AM, 2PM, or 6PM\n",
    "    - Passenger: alone, partner, kid(s), or friend(s)\n",
    "\n",
    "\n",
    "3. Coupon attributes\n",
    "    - time before it expires: 2 hours or one day"
   ]
  },
  {
   "cell_type": "code",
   "execution_count": 18,
   "metadata": {
    "id": "dzNoP3o__qRG"
   },
   "outputs": [],
   "source": [
    "import matplotlib.pyplot as plt\n",
    "import seaborn as sns\n",
    "import pandas as pd\n",
    "import numpy as np\n"
   ]
  },
  {
   "cell_type": "code",
   "execution_count": null,
   "metadata": {},
   "outputs": [],
   "source": []
  },
  {
   "cell_type": "code",
   "execution_count": null,
   "metadata": {},
   "outputs": [],
   "source": []
  },
  {
   "cell_type": "markdown",
   "metadata": {
    "id": "Ct8pI1uE_qRG"
   },
   "source": [
    "### Problems\n",
    "\n",
    "Use the prompts below to get started with your data analysis.  \n",
    "\n",
    "1. Read in the `coupons.csv` file.\n",
    "\n",
    "\n"
   ]
  },
  {
   "cell_type": "code",
   "execution_count": 24,
   "metadata": {
    "id": "X0vbffYg_qRH"
   },
   "outputs": [],
   "source": [
    "data = pd.read_csv('coupons.csv')"
   ]
  },
  {
   "cell_type": "code",
   "execution_count": 61,
   "metadata": {
    "id": "TXofQ_DF_qRH",
    "outputId": "2fc96a2c-1112-4b54-f24f-dbb9bc88abfb"
   },
   "outputs": [
    {
     "data": {
      "text/html": [
       "<div>\n",
       "<style scoped>\n",
       "    .dataframe tbody tr th:only-of-type {\n",
       "        vertical-align: middle;\n",
       "    }\n",
       "\n",
       "    .dataframe tbody tr th {\n",
       "        vertical-align: top;\n",
       "    }\n",
       "\n",
       "    .dataframe thead th {\n",
       "        text-align: right;\n",
       "    }\n",
       "</style>\n",
       "<table border=\"1\" class=\"dataframe\">\n",
       "  <thead>\n",
       "    <tr style=\"text-align: right;\">\n",
       "      <th></th>\n",
       "      <th>destination</th>\n",
       "      <th>passanger</th>\n",
       "      <th>weather</th>\n",
       "      <th>temperature</th>\n",
       "      <th>time</th>\n",
       "      <th>coupon</th>\n",
       "      <th>expiration</th>\n",
       "      <th>gender</th>\n",
       "      <th>age</th>\n",
       "      <th>maritalStatus</th>\n",
       "      <th>...</th>\n",
       "      <th>CoffeeHouse</th>\n",
       "      <th>CarryAway</th>\n",
       "      <th>RestaurantLessThan20</th>\n",
       "      <th>Restaurant20To50</th>\n",
       "      <th>toCoupon_GEQ5min</th>\n",
       "      <th>toCoupon_GEQ15min</th>\n",
       "      <th>toCoupon_GEQ25min</th>\n",
       "      <th>direction_same</th>\n",
       "      <th>direction_opp</th>\n",
       "      <th>Y</th>\n",
       "    </tr>\n",
       "  </thead>\n",
       "  <tbody>\n",
       "    <tr>\n",
       "      <th>0</th>\n",
       "      <td>No Urgent Place</td>\n",
       "      <td>Alone</td>\n",
       "      <td>Sunny</td>\n",
       "      <td>55</td>\n",
       "      <td>2PM</td>\n",
       "      <td>Restaurant(&lt;20)</td>\n",
       "      <td>1d</td>\n",
       "      <td>Female</td>\n",
       "      <td>21</td>\n",
       "      <td>Unmarried partner</td>\n",
       "      <td>...</td>\n",
       "      <td>never</td>\n",
       "      <td>NaN</td>\n",
       "      <td>4~8</td>\n",
       "      <td>1~3</td>\n",
       "      <td>1</td>\n",
       "      <td>0</td>\n",
       "      <td>0</td>\n",
       "      <td>0</td>\n",
       "      <td>1</td>\n",
       "      <td>1</td>\n",
       "    </tr>\n",
       "    <tr>\n",
       "      <th>1</th>\n",
       "      <td>No Urgent Place</td>\n",
       "      <td>Friend(s)</td>\n",
       "      <td>Sunny</td>\n",
       "      <td>80</td>\n",
       "      <td>10AM</td>\n",
       "      <td>Coffee House</td>\n",
       "      <td>2h</td>\n",
       "      <td>Female</td>\n",
       "      <td>21</td>\n",
       "      <td>Unmarried partner</td>\n",
       "      <td>...</td>\n",
       "      <td>never</td>\n",
       "      <td>NaN</td>\n",
       "      <td>4~8</td>\n",
       "      <td>1~3</td>\n",
       "      <td>1</td>\n",
       "      <td>0</td>\n",
       "      <td>0</td>\n",
       "      <td>0</td>\n",
       "      <td>1</td>\n",
       "      <td>0</td>\n",
       "    </tr>\n",
       "    <tr>\n",
       "      <th>2</th>\n",
       "      <td>No Urgent Place</td>\n",
       "      <td>Friend(s)</td>\n",
       "      <td>Sunny</td>\n",
       "      <td>80</td>\n",
       "      <td>10AM</td>\n",
       "      <td>Carry out &amp; Take away</td>\n",
       "      <td>2h</td>\n",
       "      <td>Female</td>\n",
       "      <td>21</td>\n",
       "      <td>Unmarried partner</td>\n",
       "      <td>...</td>\n",
       "      <td>never</td>\n",
       "      <td>NaN</td>\n",
       "      <td>4~8</td>\n",
       "      <td>1~3</td>\n",
       "      <td>1</td>\n",
       "      <td>1</td>\n",
       "      <td>0</td>\n",
       "      <td>0</td>\n",
       "      <td>1</td>\n",
       "      <td>1</td>\n",
       "    </tr>\n",
       "    <tr>\n",
       "      <th>3</th>\n",
       "      <td>No Urgent Place</td>\n",
       "      <td>Friend(s)</td>\n",
       "      <td>Sunny</td>\n",
       "      <td>80</td>\n",
       "      <td>2PM</td>\n",
       "      <td>Coffee House</td>\n",
       "      <td>2h</td>\n",
       "      <td>Female</td>\n",
       "      <td>21</td>\n",
       "      <td>Unmarried partner</td>\n",
       "      <td>...</td>\n",
       "      <td>never</td>\n",
       "      <td>NaN</td>\n",
       "      <td>4~8</td>\n",
       "      <td>1~3</td>\n",
       "      <td>1</td>\n",
       "      <td>1</td>\n",
       "      <td>0</td>\n",
       "      <td>0</td>\n",
       "      <td>1</td>\n",
       "      <td>0</td>\n",
       "    </tr>\n",
       "    <tr>\n",
       "      <th>4</th>\n",
       "      <td>No Urgent Place</td>\n",
       "      <td>Friend(s)</td>\n",
       "      <td>Sunny</td>\n",
       "      <td>80</td>\n",
       "      <td>2PM</td>\n",
       "      <td>Coffee House</td>\n",
       "      <td>1d</td>\n",
       "      <td>Female</td>\n",
       "      <td>21</td>\n",
       "      <td>Unmarried partner</td>\n",
       "      <td>...</td>\n",
       "      <td>never</td>\n",
       "      <td>NaN</td>\n",
       "      <td>4~8</td>\n",
       "      <td>1~3</td>\n",
       "      <td>1</td>\n",
       "      <td>1</td>\n",
       "      <td>0</td>\n",
       "      <td>0</td>\n",
       "      <td>1</td>\n",
       "      <td>0</td>\n",
       "    </tr>\n",
       "    <tr>\n",
       "      <th>5</th>\n",
       "      <td>No Urgent Place</td>\n",
       "      <td>Friend(s)</td>\n",
       "      <td>Sunny</td>\n",
       "      <td>80</td>\n",
       "      <td>6PM</td>\n",
       "      <td>Restaurant(&lt;20)</td>\n",
       "      <td>2h</td>\n",
       "      <td>Female</td>\n",
       "      <td>21</td>\n",
       "      <td>Unmarried partner</td>\n",
       "      <td>...</td>\n",
       "      <td>never</td>\n",
       "      <td>NaN</td>\n",
       "      <td>4~8</td>\n",
       "      <td>1~3</td>\n",
       "      <td>1</td>\n",
       "      <td>1</td>\n",
       "      <td>0</td>\n",
       "      <td>0</td>\n",
       "      <td>1</td>\n",
       "      <td>1</td>\n",
       "    </tr>\n",
       "    <tr>\n",
       "      <th>6</th>\n",
       "      <td>No Urgent Place</td>\n",
       "      <td>Friend(s)</td>\n",
       "      <td>Sunny</td>\n",
       "      <td>55</td>\n",
       "      <td>2PM</td>\n",
       "      <td>Carry out &amp; Take away</td>\n",
       "      <td>1d</td>\n",
       "      <td>Female</td>\n",
       "      <td>21</td>\n",
       "      <td>Unmarried partner</td>\n",
       "      <td>...</td>\n",
       "      <td>never</td>\n",
       "      <td>NaN</td>\n",
       "      <td>4~8</td>\n",
       "      <td>1~3</td>\n",
       "      <td>1</td>\n",
       "      <td>1</td>\n",
       "      <td>0</td>\n",
       "      <td>0</td>\n",
       "      <td>1</td>\n",
       "      <td>1</td>\n",
       "    </tr>\n",
       "    <tr>\n",
       "      <th>7</th>\n",
       "      <td>No Urgent Place</td>\n",
       "      <td>Kid(s)</td>\n",
       "      <td>Sunny</td>\n",
       "      <td>80</td>\n",
       "      <td>10AM</td>\n",
       "      <td>Restaurant(&lt;20)</td>\n",
       "      <td>2h</td>\n",
       "      <td>Female</td>\n",
       "      <td>21</td>\n",
       "      <td>Unmarried partner</td>\n",
       "      <td>...</td>\n",
       "      <td>never</td>\n",
       "      <td>NaN</td>\n",
       "      <td>4~8</td>\n",
       "      <td>1~3</td>\n",
       "      <td>1</td>\n",
       "      <td>1</td>\n",
       "      <td>0</td>\n",
       "      <td>0</td>\n",
       "      <td>1</td>\n",
       "      <td>1</td>\n",
       "    </tr>\n",
       "    <tr>\n",
       "      <th>8</th>\n",
       "      <td>No Urgent Place</td>\n",
       "      <td>Kid(s)</td>\n",
       "      <td>Sunny</td>\n",
       "      <td>80</td>\n",
       "      <td>10AM</td>\n",
       "      <td>Carry out &amp; Take away</td>\n",
       "      <td>2h</td>\n",
       "      <td>Female</td>\n",
       "      <td>21</td>\n",
       "      <td>Unmarried partner</td>\n",
       "      <td>...</td>\n",
       "      <td>never</td>\n",
       "      <td>NaN</td>\n",
       "      <td>4~8</td>\n",
       "      <td>1~3</td>\n",
       "      <td>1</td>\n",
       "      <td>1</td>\n",
       "      <td>0</td>\n",
       "      <td>0</td>\n",
       "      <td>1</td>\n",
       "      <td>1</td>\n",
       "    </tr>\n",
       "    <tr>\n",
       "      <th>9</th>\n",
       "      <td>No Urgent Place</td>\n",
       "      <td>Kid(s)</td>\n",
       "      <td>Sunny</td>\n",
       "      <td>80</td>\n",
       "      <td>10AM</td>\n",
       "      <td>Bar</td>\n",
       "      <td>1d</td>\n",
       "      <td>Female</td>\n",
       "      <td>21</td>\n",
       "      <td>Unmarried partner</td>\n",
       "      <td>...</td>\n",
       "      <td>never</td>\n",
       "      <td>NaN</td>\n",
       "      <td>4~8</td>\n",
       "      <td>1~3</td>\n",
       "      <td>1</td>\n",
       "      <td>1</td>\n",
       "      <td>0</td>\n",
       "      <td>0</td>\n",
       "      <td>1</td>\n",
       "      <td>0</td>\n",
       "    </tr>\n",
       "    <tr>\n",
       "      <th>10</th>\n",
       "      <td>No Urgent Place</td>\n",
       "      <td>Kid(s)</td>\n",
       "      <td>Sunny</td>\n",
       "      <td>80</td>\n",
       "      <td>2PM</td>\n",
       "      <td>Restaurant(&lt;20)</td>\n",
       "      <td>1d</td>\n",
       "      <td>Female</td>\n",
       "      <td>21</td>\n",
       "      <td>Unmarried partner</td>\n",
       "      <td>...</td>\n",
       "      <td>never</td>\n",
       "      <td>NaN</td>\n",
       "      <td>4~8</td>\n",
       "      <td>1~3</td>\n",
       "      <td>1</td>\n",
       "      <td>0</td>\n",
       "      <td>0</td>\n",
       "      <td>0</td>\n",
       "      <td>1</td>\n",
       "      <td>1</td>\n",
       "    </tr>\n",
       "    <tr>\n",
       "      <th>11</th>\n",
       "      <td>No Urgent Place</td>\n",
       "      <td>Kid(s)</td>\n",
       "      <td>Sunny</td>\n",
       "      <td>55</td>\n",
       "      <td>2PM</td>\n",
       "      <td>Restaurant(&lt;20)</td>\n",
       "      <td>1d</td>\n",
       "      <td>Female</td>\n",
       "      <td>21</td>\n",
       "      <td>Unmarried partner</td>\n",
       "      <td>...</td>\n",
       "      <td>never</td>\n",
       "      <td>NaN</td>\n",
       "      <td>4~8</td>\n",
       "      <td>1~3</td>\n",
       "      <td>1</td>\n",
       "      <td>1</td>\n",
       "      <td>0</td>\n",
       "      <td>0</td>\n",
       "      <td>1</td>\n",
       "      <td>1</td>\n",
       "    </tr>\n",
       "    <tr>\n",
       "      <th>12</th>\n",
       "      <td>No Urgent Place</td>\n",
       "      <td>Kid(s)</td>\n",
       "      <td>Sunny</td>\n",
       "      <td>55</td>\n",
       "      <td>6PM</td>\n",
       "      <td>Coffee House</td>\n",
       "      <td>2h</td>\n",
       "      <td>Female</td>\n",
       "      <td>21</td>\n",
       "      <td>Unmarried partner</td>\n",
       "      <td>...</td>\n",
       "      <td>never</td>\n",
       "      <td>NaN</td>\n",
       "      <td>4~8</td>\n",
       "      <td>1~3</td>\n",
       "      <td>1</td>\n",
       "      <td>1</td>\n",
       "      <td>0</td>\n",
       "      <td>0</td>\n",
       "      <td>1</td>\n",
       "      <td>1</td>\n",
       "    </tr>\n",
       "    <tr>\n",
       "      <th>13</th>\n",
       "      <td>Home</td>\n",
       "      <td>Alone</td>\n",
       "      <td>Sunny</td>\n",
       "      <td>55</td>\n",
       "      <td>6PM</td>\n",
       "      <td>Bar</td>\n",
       "      <td>1d</td>\n",
       "      <td>Female</td>\n",
       "      <td>21</td>\n",
       "      <td>Unmarried partner</td>\n",
       "      <td>...</td>\n",
       "      <td>never</td>\n",
       "      <td>NaN</td>\n",
       "      <td>4~8</td>\n",
       "      <td>1~3</td>\n",
       "      <td>1</td>\n",
       "      <td>0</td>\n",
       "      <td>0</td>\n",
       "      <td>1</td>\n",
       "      <td>0</td>\n",
       "      <td>1</td>\n",
       "    </tr>\n",
       "    <tr>\n",
       "      <th>14</th>\n",
       "      <td>Home</td>\n",
       "      <td>Alone</td>\n",
       "      <td>Sunny</td>\n",
       "      <td>55</td>\n",
       "      <td>6PM</td>\n",
       "      <td>Restaurant(20-50)</td>\n",
       "      <td>1d</td>\n",
       "      <td>Female</td>\n",
       "      <td>21</td>\n",
       "      <td>Unmarried partner</td>\n",
       "      <td>...</td>\n",
       "      <td>never</td>\n",
       "      <td>NaN</td>\n",
       "      <td>4~8</td>\n",
       "      <td>1~3</td>\n",
       "      <td>1</td>\n",
       "      <td>1</td>\n",
       "      <td>0</td>\n",
       "      <td>0</td>\n",
       "      <td>1</td>\n",
       "      <td>1</td>\n",
       "    </tr>\n",
       "    <tr>\n",
       "      <th>15</th>\n",
       "      <td>Home</td>\n",
       "      <td>Alone</td>\n",
       "      <td>Sunny</td>\n",
       "      <td>80</td>\n",
       "      <td>6PM</td>\n",
       "      <td>Coffee House</td>\n",
       "      <td>2h</td>\n",
       "      <td>Female</td>\n",
       "      <td>21</td>\n",
       "      <td>Unmarried partner</td>\n",
       "      <td>...</td>\n",
       "      <td>never</td>\n",
       "      <td>NaN</td>\n",
       "      <td>4~8</td>\n",
       "      <td>1~3</td>\n",
       "      <td>1</td>\n",
       "      <td>0</td>\n",
       "      <td>0</td>\n",
       "      <td>0</td>\n",
       "      <td>1</td>\n",
       "      <td>0</td>\n",
       "    </tr>\n",
       "    <tr>\n",
       "      <th>16</th>\n",
       "      <td>Work</td>\n",
       "      <td>Alone</td>\n",
       "      <td>Sunny</td>\n",
       "      <td>55</td>\n",
       "      <td>7AM</td>\n",
       "      <td>Coffee House</td>\n",
       "      <td>2h</td>\n",
       "      <td>Female</td>\n",
       "      <td>21</td>\n",
       "      <td>Unmarried partner</td>\n",
       "      <td>...</td>\n",
       "      <td>never</td>\n",
       "      <td>NaN</td>\n",
       "      <td>4~8</td>\n",
       "      <td>1~3</td>\n",
       "      <td>1</td>\n",
       "      <td>1</td>\n",
       "      <td>1</td>\n",
       "      <td>0</td>\n",
       "      <td>1</td>\n",
       "      <td>1</td>\n",
       "    </tr>\n",
       "    <tr>\n",
       "      <th>17</th>\n",
       "      <td>Work</td>\n",
       "      <td>Alone</td>\n",
       "      <td>Sunny</td>\n",
       "      <td>55</td>\n",
       "      <td>7AM</td>\n",
       "      <td>Bar</td>\n",
       "      <td>1d</td>\n",
       "      <td>Female</td>\n",
       "      <td>21</td>\n",
       "      <td>Unmarried partner</td>\n",
       "      <td>...</td>\n",
       "      <td>never</td>\n",
       "      <td>NaN</td>\n",
       "      <td>4~8</td>\n",
       "      <td>1~3</td>\n",
       "      <td>1</td>\n",
       "      <td>1</td>\n",
       "      <td>1</td>\n",
       "      <td>0</td>\n",
       "      <td>1</td>\n",
       "      <td>0</td>\n",
       "    </tr>\n",
       "    <tr>\n",
       "      <th>18</th>\n",
       "      <td>Work</td>\n",
       "      <td>Alone</td>\n",
       "      <td>Sunny</td>\n",
       "      <td>80</td>\n",
       "      <td>7AM</td>\n",
       "      <td>Restaurant(20-50)</td>\n",
       "      <td>1d</td>\n",
       "      <td>Female</td>\n",
       "      <td>21</td>\n",
       "      <td>Unmarried partner</td>\n",
       "      <td>...</td>\n",
       "      <td>never</td>\n",
       "      <td>NaN</td>\n",
       "      <td>4~8</td>\n",
       "      <td>1~3</td>\n",
       "      <td>1</td>\n",
       "      <td>1</td>\n",
       "      <td>0</td>\n",
       "      <td>0</td>\n",
       "      <td>1</td>\n",
       "      <td>1</td>\n",
       "    </tr>\n",
       "    <tr>\n",
       "      <th>19</th>\n",
       "      <td>Work</td>\n",
       "      <td>Alone</td>\n",
       "      <td>Sunny</td>\n",
       "      <td>80</td>\n",
       "      <td>7AM</td>\n",
       "      <td>Carry out &amp; Take away</td>\n",
       "      <td>2h</td>\n",
       "      <td>Female</td>\n",
       "      <td>21</td>\n",
       "      <td>Unmarried partner</td>\n",
       "      <td>...</td>\n",
       "      <td>never</td>\n",
       "      <td>NaN</td>\n",
       "      <td>4~8</td>\n",
       "      <td>1~3</td>\n",
       "      <td>1</td>\n",
       "      <td>0</td>\n",
       "      <td>0</td>\n",
       "      <td>1</td>\n",
       "      <td>0</td>\n",
       "      <td>1</td>\n",
       "    </tr>\n",
       "  </tbody>\n",
       "</table>\n",
       "<p>20 rows × 26 columns</p>\n",
       "</div>"
      ],
      "text/plain": [
       "        destination  passanger weather  temperature  time  \\\n",
       "0   No Urgent Place      Alone   Sunny           55   2PM   \n",
       "1   No Urgent Place  Friend(s)   Sunny           80  10AM   \n",
       "2   No Urgent Place  Friend(s)   Sunny           80  10AM   \n",
       "3   No Urgent Place  Friend(s)   Sunny           80   2PM   \n",
       "4   No Urgent Place  Friend(s)   Sunny           80   2PM   \n",
       "5   No Urgent Place  Friend(s)   Sunny           80   6PM   \n",
       "6   No Urgent Place  Friend(s)   Sunny           55   2PM   \n",
       "7   No Urgent Place     Kid(s)   Sunny           80  10AM   \n",
       "8   No Urgent Place     Kid(s)   Sunny           80  10AM   \n",
       "9   No Urgent Place     Kid(s)   Sunny           80  10AM   \n",
       "10  No Urgent Place     Kid(s)   Sunny           80   2PM   \n",
       "11  No Urgent Place     Kid(s)   Sunny           55   2PM   \n",
       "12  No Urgent Place     Kid(s)   Sunny           55   6PM   \n",
       "13             Home      Alone   Sunny           55   6PM   \n",
       "14             Home      Alone   Sunny           55   6PM   \n",
       "15             Home      Alone   Sunny           80   6PM   \n",
       "16             Work      Alone   Sunny           55   7AM   \n",
       "17             Work      Alone   Sunny           55   7AM   \n",
       "18             Work      Alone   Sunny           80   7AM   \n",
       "19             Work      Alone   Sunny           80   7AM   \n",
       "\n",
       "                   coupon expiration  gender age      maritalStatus  ...  \\\n",
       "0         Restaurant(<20)         1d  Female  21  Unmarried partner  ...   \n",
       "1            Coffee House         2h  Female  21  Unmarried partner  ...   \n",
       "2   Carry out & Take away         2h  Female  21  Unmarried partner  ...   \n",
       "3            Coffee House         2h  Female  21  Unmarried partner  ...   \n",
       "4            Coffee House         1d  Female  21  Unmarried partner  ...   \n",
       "5         Restaurant(<20)         2h  Female  21  Unmarried partner  ...   \n",
       "6   Carry out & Take away         1d  Female  21  Unmarried partner  ...   \n",
       "7         Restaurant(<20)         2h  Female  21  Unmarried partner  ...   \n",
       "8   Carry out & Take away         2h  Female  21  Unmarried partner  ...   \n",
       "9                     Bar         1d  Female  21  Unmarried partner  ...   \n",
       "10        Restaurant(<20)         1d  Female  21  Unmarried partner  ...   \n",
       "11        Restaurant(<20)         1d  Female  21  Unmarried partner  ...   \n",
       "12           Coffee House         2h  Female  21  Unmarried partner  ...   \n",
       "13                    Bar         1d  Female  21  Unmarried partner  ...   \n",
       "14      Restaurant(20-50)         1d  Female  21  Unmarried partner  ...   \n",
       "15           Coffee House         2h  Female  21  Unmarried partner  ...   \n",
       "16           Coffee House         2h  Female  21  Unmarried partner  ...   \n",
       "17                    Bar         1d  Female  21  Unmarried partner  ...   \n",
       "18      Restaurant(20-50)         1d  Female  21  Unmarried partner  ...   \n",
       "19  Carry out & Take away         2h  Female  21  Unmarried partner  ...   \n",
       "\n",
       "    CoffeeHouse CarryAway RestaurantLessThan20 Restaurant20To50  \\\n",
       "0         never       NaN                  4~8              1~3   \n",
       "1         never       NaN                  4~8              1~3   \n",
       "2         never       NaN                  4~8              1~3   \n",
       "3         never       NaN                  4~8              1~3   \n",
       "4         never       NaN                  4~8              1~3   \n",
       "5         never       NaN                  4~8              1~3   \n",
       "6         never       NaN                  4~8              1~3   \n",
       "7         never       NaN                  4~8              1~3   \n",
       "8         never       NaN                  4~8              1~3   \n",
       "9         never       NaN                  4~8              1~3   \n",
       "10        never       NaN                  4~8              1~3   \n",
       "11        never       NaN                  4~8              1~3   \n",
       "12        never       NaN                  4~8              1~3   \n",
       "13        never       NaN                  4~8              1~3   \n",
       "14        never       NaN                  4~8              1~3   \n",
       "15        never       NaN                  4~8              1~3   \n",
       "16        never       NaN                  4~8              1~3   \n",
       "17        never       NaN                  4~8              1~3   \n",
       "18        never       NaN                  4~8              1~3   \n",
       "19        never       NaN                  4~8              1~3   \n",
       "\n",
       "   toCoupon_GEQ5min toCoupon_GEQ15min toCoupon_GEQ25min direction_same  \\\n",
       "0                 1                 0                 0              0   \n",
       "1                 1                 0                 0              0   \n",
       "2                 1                 1                 0              0   \n",
       "3                 1                 1                 0              0   \n",
       "4                 1                 1                 0              0   \n",
       "5                 1                 1                 0              0   \n",
       "6                 1                 1                 0              0   \n",
       "7                 1                 1                 0              0   \n",
       "8                 1                 1                 0              0   \n",
       "9                 1                 1                 0              0   \n",
       "10                1                 0                 0              0   \n",
       "11                1                 1                 0              0   \n",
       "12                1                 1                 0              0   \n",
       "13                1                 0                 0              1   \n",
       "14                1                 1                 0              0   \n",
       "15                1                 0                 0              0   \n",
       "16                1                 1                 1              0   \n",
       "17                1                 1                 1              0   \n",
       "18                1                 1                 0              0   \n",
       "19                1                 0                 0              1   \n",
       "\n",
       "   direction_opp  Y  \n",
       "0              1  1  \n",
       "1              1  0  \n",
       "2              1  1  \n",
       "3              1  0  \n",
       "4              1  0  \n",
       "5              1  1  \n",
       "6              1  1  \n",
       "7              1  1  \n",
       "8              1  1  \n",
       "9              1  0  \n",
       "10             1  1  \n",
       "11             1  1  \n",
       "12             1  1  \n",
       "13             0  1  \n",
       "14             1  1  \n",
       "15             1  0  \n",
       "16             1  1  \n",
       "17             1  0  \n",
       "18             1  1  \n",
       "19             0  1  \n",
       "\n",
       "[20 rows x 26 columns]"
      ]
     },
     "execution_count": 61,
     "metadata": {},
     "output_type": "execute_result"
    }
   ],
   "source": [
    "data.head(20)"
   ]
  },
  {
   "cell_type": "markdown",
   "metadata": {
    "id": "GcDs78ZH_qRH"
   },
   "source": [
    "2. Investigate the dataset for missing or problematic data."
   ]
  },
  {
   "cell_type": "code",
   "execution_count": 202,
   "metadata": {
    "id": "6CwL6oWj_qRH"
   },
   "outputs": [
    {
     "name": "stdout",
     "output_type": "stream",
     "text": [
      "Missing values per column:\n",
      " destination                 0\n",
      "passanger                   0\n",
      "weather                     0\n",
      "temperature                 0\n",
      "time                        0\n",
      "coupon                      0\n",
      "expiration                  0\n",
      "gender                      0\n",
      "age                         0\n",
      "maritalStatus               0\n",
      "has_children                0\n",
      "education                   0\n",
      "occupation                  0\n",
      "income                      0\n",
      "car                     12576\n",
      "Bar                       107\n",
      "CoffeeHouse               217\n",
      "CarryAway                 151\n",
      "RestaurantLessThan20      130\n",
      "Restaurant20To50          189\n",
      "toCoupon_GEQ5min            0\n",
      "toCoupon_GEQ15min           0\n",
      "toCoupon_GEQ25min           0\n",
      "direction_same              0\n",
      "direction_opp               0\n",
      "Y                           0\n",
      "dtype: int64\n"
     ]
    }
   ],
   "source": [
    "df = data\n",
    "print(\"Missing values per column:\\n\", df.isnull().sum())\n"
   ]
  },
  {
   "cell_type": "markdown",
   "metadata": {
    "id": "bSdVSpYB_qRH"
   },
   "source": [
    "3. Decide what to do about your missing data -- drop, replace, other..."
   ]
  },
  {
   "cell_type": "code",
   "execution_count": 214,
   "metadata": {},
   "outputs": [
    {
     "name": "stdout",
     "output_type": "stream",
     "text": [
      "<class 'pandas.core.frame.DataFrame'>\n",
      "Index: 108 entries, 1237 to 8297\n",
      "Data columns (total 26 columns):\n",
      " #   Column                Non-Null Count  Dtype \n",
      "---  ------                --------------  ----- \n",
      " 0   destination           108 non-null    object\n",
      " 1   passanger             108 non-null    object\n",
      " 2   weather               108 non-null    object\n",
      " 3   temperature           108 non-null    int64 \n",
      " 4   time                  108 non-null    object\n",
      " 5   coupon                108 non-null    object\n",
      " 6   expiration            108 non-null    object\n",
      " 7   gender                108 non-null    object\n",
      " 8   age                   108 non-null    object\n",
      " 9   maritalStatus         108 non-null    object\n",
      " 10  has_children          108 non-null    int64 \n",
      " 11  education             108 non-null    object\n",
      " 12  occupation            108 non-null    object\n",
      " 13  income                108 non-null    object\n",
      " 14  car                   108 non-null    object\n",
      " 15  Bar                   108 non-null    object\n",
      " 16  CoffeeHouse           108 non-null    object\n",
      " 17  CarryAway             108 non-null    object\n",
      " 18  RestaurantLessThan20  108 non-null    object\n",
      " 19  Restaurant20To50      108 non-null    object\n",
      " 20  toCoupon_GEQ5min      108 non-null    int64 \n",
      " 21  toCoupon_GEQ15min     108 non-null    int64 \n",
      " 22  toCoupon_GEQ25min     108 non-null    int64 \n",
      " 23  direction_same        108 non-null    int64 \n",
      " 24  direction_opp         108 non-null    int64 \n",
      " 25  Y                     108 non-null    int64 \n",
      "dtypes: int64(8), object(18)\n",
      "memory usage: 22.8+ KB\n"
     ]
    }
   ],
   "source": [
    "df.info()\n",
    " "
   ]
  },
  {
   "cell_type": "code",
   "execution_count": 117,
   "metadata": {},
   "outputs": [
    {
     "name": "stdout",
     "output_type": "stream",
     "text": [
      "\n",
      "Duplicate rows: 0\n"
     ]
    }
   ],
   "source": [
    "print(\"\\nDuplicate rows:\", df.duplicated().sum())\n",
    "df_cleaned = df.drop_duplicates()\n",
    "\n"
   ]
  },
  {
   "cell_type": "code",
   "execution_count": 212,
   "metadata": {
    "id": "tyvoAC5F_qRI"
   },
   "outputs": [],
   "source": [
    "df = df.dropna()\n",
    "df = df.dropna(axis=1)\n"
   ]
  },
  {
   "cell_type": "markdown",
   "metadata": {
    "id": "YE6oJbXd_qRI"
   },
   "source": [
    "4. What proportion of the total observations chose to accept the coupon?\n",
    "\n"
   ]
  },
  {
   "cell_type": "code",
   "execution_count": 121,
   "metadata": {
    "id": "86GGqBTv_qRI"
   },
   "outputs": [
    {
     "name": "stdout",
     "output_type": "stream",
     "text": [
      "coupon\n",
      "Coffee House             37\n",
      "Restaurant(<20)          25\n",
      "Carry out & Take away    19\n",
      "Restaurant(20-50)        14\n",
      "Bar                      13\n",
      "Name: count, dtype: int64\n"
     ]
    }
   ],
   "source": [
    "print(df[\"coupon\"].value_counts())"
   ]
  },
  {
   "cell_type": "markdown",
   "metadata": {
    "id": "vflz0DoE_qRI"
   },
   "source": [
    "5. Use a bar plot to visualize the `coupon` column."
   ]
  },
  {
   "cell_type": "code",
   "execution_count": 149,
   "metadata": {
    "id": "dHFh3E45_qRI"
   },
   "outputs": [
    {
     "data": {
      "image/png": "[encoded data removed]",
      "text/plain": [
       "<Figure size 640x480 with 1 Axes>"
      ]
     },
     "metadata": {},
     "output_type": "display_data"
    }
   ],
   "source": [
    " import pandas as pd\n",
    "import matplotlib.pyplot as plt\n",
    "\n",
    "\n",
    "df = pd.read_csv('coupons.csv')\n",
    "\n",
    "\n",
    "coupon_counts = df['coupon'].value_counts()\n",
    "\n",
    " \n",
    "plt.figure()  # Create a new figure\n",
    "coupon_counts.plot(kind='bar')\n",
    "\n",
    "\n",
    "plt.xlabel('Coupon')\n",
    "plt.ylabel('Frequency')\n",
    "plt.title('Frequency of Coupons')\n",
    "\n",
    "plt.show()"
   ]
  },
  {
   "cell_type": "markdown",
   "metadata": {},
   "source": [
    "# Assistant\n",
    "This is a syntax error because the boolean condition in the DataFrame filter is incomplete. You need to complete the comparison operation after \"bar\". Based on the comment, it seems you want to filter for people who visit bars 3 or fewer times.\n",
    "\n",
    "Would you like me to provide the corrected code?\n",
    "\n",
    "The error occurs because:\n",
    "1. The square bracket filtering operation is not complete\n",
    "2. There's no comparison operator (like <, >, ==, etc.)\n",
    "3. There's no comparison value"
   ]
  },
  {
   "cell_type": "markdown",
   "metadata": {
    "id": "Qw4lCyx2_qRI"
   },
   "source": [
    "6. Use a histogram to visualize the temperature column."
   ]
  },
  {
   "cell_type": "code",
   "execution_count": 151,
   "metadata": {
    "id": "Yg9Anv71_qRI"
   },
   "outputs": [
    {
     "data": {
      "image/png": "[encoded data removed]",
      "text/plain": [
       "<Figure size 640x480 with 1 Axes>"
      ]
     },
     "metadata": {},
     "output_type": "display_data"
    }
   ],
   "source": [
    " df = pd.read_csv('coupons.csv')\n",
    "\n",
    "# Plot a histogram of the temperature column\n",
    "plt.figure()\n",
    "df['temperature'].hist()\n",
    "\n",
    "# Label the axes and title\n",
    "plt.xlabel('Temperature')\n",
    "plt.ylabel('Frequency')\n",
    "plt.title('Distribution of Temperature')\n",
    "\n",
    "# Display the plot\n",
    "plt.show()"
   ]
  },
  {
   "cell_type": "code",
   "execution_count": null,
   "metadata": {
    "id": "zLtOaJQk_qRI"
   },
   "outputs": [],
   "source": []
  },
  {
   "cell_type": "code",
   "execution_count": null,
   "metadata": {
    "id": "7GBHZKBp_qRJ"
   },
   "outputs": [],
   "source": []
  },
  {
   "cell_type": "code",
   "execution_count": null,
   "metadata": {
    "id": "Y5nBUA-j_qRJ"
   },
   "outputs": [],
   "source": []
  },
  {
   "cell_type": "code",
   "execution_count": null,
   "metadata": {
    "id": "ShcUC-Vm_qRJ"
   },
   "outputs": [],
   "source": []
  },
  {
   "cell_type": "markdown",
   "metadata": {
    "id": "FupfgeJk_qRJ"
   },
   "source": [
    "**Investigating the Bar Coupons**\n",
    "\n",
    "Now, we will lead you through an exploration of just the bar related coupons.  \n",
    "\n",
    "1. Create a new `DataFrame` that contains just the bar coupons.\n"
   ]
  },
  {
   "cell_type": "code",
   "execution_count": 155,
   "metadata": {
    "id": "tMBlWuGq_qRJ"
   },
   "outputs": [
    {
     "name": "stdout",
     "output_type": "stream",
     "text": [
      "        destination  passanger weather  temperature  time coupon expiration  \\\n",
      "9   No Urgent Place     Kid(s)   Sunny           80  10AM    Bar         1d   \n",
      "13             Home      Alone   Sunny           55   6PM    Bar         1d   \n",
      "17             Work      Alone   Sunny           55   7AM    Bar         1d   \n",
      "24  No Urgent Place  Friend(s)   Sunny           80  10AM    Bar         1d   \n",
      "35             Home      Alone   Sunny           55   6PM    Bar         1d   \n",
      "\n",
      "    gender age      maritalStatus  ...  CoffeeHouse CarryAway  \\\n",
      "9   Female  21  Unmarried partner  ...        never       NaN   \n",
      "13  Female  21  Unmarried partner  ...        never       NaN   \n",
      "17  Female  21  Unmarried partner  ...        never       NaN   \n",
      "24    Male  21             Single  ...        less1       4~8   \n",
      "35    Male  21             Single  ...        less1       4~8   \n",
      "\n",
      "   RestaurantLessThan20 Restaurant20To50 toCoupon_GEQ5min toCoupon_GEQ15min  \\\n",
      "9                   4~8              1~3                1                 1   \n",
      "13                  4~8              1~3                1                 0   \n",
      "17                  4~8              1~3                1                 1   \n",
      "24                  4~8            less1                1                 0   \n",
      "35                  4~8            less1                1                 0   \n",
      "\n",
      "   toCoupon_GEQ25min direction_same direction_opp  Y  \n",
      "9                  0              0             1  0  \n",
      "13                 0              1             0  1  \n",
      "17                 1              0             1  0  \n",
      "24                 0              0             1  1  \n",
      "35                 0              1             0  1  \n",
      "\n",
      "[5 rows x 26 columns]\n"
     ]
    }
   ],
   "source": [
    "import pandas as pd\n",
    "\n",
    " \n",
    "df = pd.read_csv('coupons.csv')\n",
    "\n",
    " \n",
    "bar_df = df[df['coupon'] == 'Bar']\n",
    "\n",
    "print(bar_df.head())"
   ]
  },
  {
   "cell_type": "markdown",
   "metadata": {
    "id": "8ue6uCqf_qRJ"
   },
   "source": [
    "2. What proportion of bar coupons were accepted?\n"
   ]
  },
  {
   "cell_type": "code",
   "execution_count": 157,
   "metadata": {
    "id": "hSdte8Mi_qRK"
   },
   "outputs": [
    {
     "name": "stdout",
     "output_type": "stream",
     "text": [
      "Proportion of Bar coupons accepted: 0.41\n"
     ]
    }
   ],
   "source": [
    " import pandas as pd\n",
    "\n",
    "df = pd.read_csv('coupons.csv')\n",
    "\n",
    "\n",
    "bar_df = df[df['coupon'] == 'Bar']\n",
    "\n",
    "\n",
    "proportion_accepted = bar_df['Y'].mean()\n",
    "\n",
    "print(f\"Proportion of Bar coupons accepted: {proportion_accepted:.2f}\")"
   ]
  },
  {
   "cell_type": "markdown",
   "metadata": {
    "id": "85nA_iEi_qRK"
   },
   "source": [
    "3. Compare the acceptance rate between those who went to a bar 3 or fewer times a month to those who went more.\n"
   ]
  },
  {
   "cell_type": "code",
   "execution_count": 169,
   "metadata": {
    "id": "LBOrN-XM_qRK",
    "scrolled": true
   },
   "outputs": [
    {
     "name": "stdout",
     "output_type": "stream",
     "text": [
      "Unique values in 'Bar' column: ['never' 'less1' '1~3' 'gt8' nan '4~8']\n",
      "Acceptance rate (3 or fewer visits/month): 0.37\n",
      "Acceptance rate (more than 3 visits/month): 0.77\n"
     ]
    }
   ],
   "source": [
    "import pandas as pd\n",
    "\n",
    "\n",
    "df = pd.read_csv('coupons.csv')\n",
    "\n",
    "\n",
    "print(\"Unique values in 'Bar' column:\", df['Bar'].unique())\n",
    "\n",
    "\n",
    "mapping = {\n",
    "    'never': 0,\n",
    "    'less1': 0.5,\n",
    "    '1~3': 2,\n",
    "    '4~8': 6,\n",
    "    'gt8': 9\n",
    "}\n",
    "\n",
    "\n",
    "df['Bar_num'] = df['Bar'].map(mapping)\n",
    "\n",
    "\n",
    "bar_df = df[df['coupon'] == 'Bar']\n",
    "\n",
    "\n",
    "few_visits = bar_df[bar_df['Bar_num'] <= 3]\n",
    "\n",
    "\n",
    "many_visits = bar_df[bar_df['Bar_num'] > 3]\n",
    "\n",
    "\n",
    "acceptance_few = few_visits['Y'].mean()\n",
    "acceptance_many = many_visits['Y'].mean()\n",
    "\n",
    " \n",
    "print(f\"Acceptance rate (3 or fewer visits/month): {acceptance_few:.2f}\")\n",
    "print(f\"Acceptance rate (more than 3 visits/month): {acceptance_many:.2f}\")\n",
    "\n"
   ]
  },
  {
   "cell_type": "markdown",
   "metadata": {
    "id": "RBgcQwH4_qRK"
   },
   "source": [
    "4. Compare the acceptance rate between drivers who go to a bar more than once a month and are over the age of 25 to the all others.  Is there a difference?\n"
   ]
  },
  {
   "cell_type": "code",
   "execution_count": 173,
   "metadata": {
    "id": "bf28bbeX_qRK"
   },
   "outputs": [
    {
     "name": "stdout",
     "output_type": "stream",
     "text": [
      "Unique values in 'Bar': ['never' 'less1' '1~3' 'gt8' nan '4~8']\n",
      "Unique values in 'age': ['21' '46' '26' '31' '41' '50plus' '36' 'below21']\n",
      "Acceptance rate (Bar > 1/month, Age > 25): 0.60\n",
      "Acceptance rate (All others): 0.57\n"
     ]
    }
   ],
   "source": [
    "import pandas as pd\n",
    "\n",
    "# Read the CSV file\n",
    "df = pd.read_csv('coupons.csv')\n",
    "\n",
    "# Check what the Bar and age columns look like:\n",
    "print(\"Unique values in 'Bar':\", df['Bar'].unique())\n",
    "print(\"Unique values in 'age':\", df['age'].unique())\n",
    "\n",
    "# Map the categorical strings to numeric (adjust if needed)\n",
    "bar_mapping = {\n",
    "    'never': 0,\n",
    "    'less1': 0.5,\n",
    "    '1~3': 2,\n",
    "    '4~8': 6,\n",
    "    'gt8': 9\n",
    "}\n",
    "age_mapping = {\n",
    "    'below21': 20,\n",
    "    '21': 21,\n",
    "    '26-30': 28,\n",
    "    '31-40': 35,\n",
    "    '41-50': 45,\n",
    "    '50plus': 55\n",
    "}\n",
    "\n",
    "df['Bar_num'] = df['Bar'].map(bar_mapping)\n",
    "df['Age_num'] = df['age'].map(age_mapping)\n",
    "\n",
    "# Group A: Drivers who go to a bar more than once per month & are over 25\n",
    "group_a = df[(df['Bar_num'] > 1) & (df['Age_num'] > 25)]\n",
    "\n",
    "# Group B: All other drivers\n",
    "group_b = df[~((df['Bar_num'] > 1) & (df['Age_num'] > 25))]\n",
    "\n",
    "# Compute acceptance rates (assuming 'Y' = 1 if coupon accepted, 0 if not)\n",
    "acceptance_a = group_a['Y'].mean()\n",
    "acceptance_b = group_b['Y'].mean()\n",
    "\n",
    "print(f\"Acceptance rate (Bar > 1/month, Age > 25): {acceptance_a:.2f}\")\n",
    "print(f\"Acceptance rate (All others): {acceptance_b:.2f}\")\n"
   ]
  },
  {
   "cell_type": "markdown",
   "metadata": {
    "id": "S4RKT4PJ_qRK"
   },
   "source": [
    "5. Use the same process to compare the acceptance rate between drivers who go to bars more than once a month and had passengers that were not a kid and had occupations other than farming, fishing, or forestry.\n"
   ]
  },
  {
   "cell_type": "code",
   "execution_count": 216,
   "metadata": {
    "id": "sENaI2Tg_qRK",
    "scrolled": true
   },
   "outputs": [
    {
     "name": "stdout",
     "output_type": "stream",
     "text": [
      "Acceptance rate (Group A): 0.62\n",
      "Acceptance rate (Group B): 0.55\n"
     ]
    }
   ],
   "source": [
    "\n",
    " import pandas as pd\n",
    "\n",
    "# Read your data\n",
    "df = pd.read_csv('coupons.csv')\n",
    "\n",
    "\n",
    "bar_mapping = {\n",
    "    'never': 0,\n",
    "    'less1': 0.5,\n",
    "    '1~3': 2,\n",
    "    '4~8': 6,\n",
    "    'gt8': 9\n",
    "}\n",
    "df['Bar_num'] = df['Bar'].map(bar_mapping)\n",
    "\n",
    "# Define Group A: meets all three criteria\n",
    "group_a = df[\n",
    "    (df['Bar_num'] > 1) &\n",
    "    (df['passanger'] != 'Kid(s)') &\n",
    "    (df['occupation'] != 'Farming/Fishing')\n",
    "]\n",
    "\n",
    "# Define Group B: all other drivers\n",
    "group_b = df[~(\n",
    "    (df['Bar_num'] > 1) &\n",
    "    (df['passanger'] != 'Kid(s)') &\n",
    "    (df['occupation'] != 'Farming/Fishing')\n",
    ")]\n",
    "\n",
    "# Assuming 'Y' = 1 for accepted, 0 for not accepted\n",
    "acceptance_a = group_a['Y'].mean()\n",
    "acceptance_b = group_b['Y'].mean()\n",
    "\n",
    "print(f\"Acceptance rate (Group A): {acceptance_a:.2f}\")\n",
    "print(f\"Acceptance rate (Group B): {acceptance_b:.2f}\")\n"
   ]
  },
  {
   "cell_type": "markdown",
   "metadata": {
    "id": "n2LIUTil_qRK"
   },
   "source": [
    "6. Compare the acceptance rates between those drivers who:\n",
    "\n",
    "- go to bars more than once a month, had passengers that were not a kid, and were not widowed *OR*\n",
    "- go to bars more than once a month and are under the age of 30 *OR*\n",
    "- go to cheap restaurants more than 4 times a month and income is less than 50K.\n",
    "\n"
   ]
  },
  {
   "cell_type": "code",
   "execution_count": 230,
   "metadata": {
    "id": "aK_wEzx7_qRK"
   },
   "outputs": [
    {
     "name": "stdout",
     "output_type": "stream",
     "text": [
      "Acceptance rate (Group A): 0.60\n",
      "Acceptance rate (Group B): 0.54\n"
     ]
    }
   ],
   "source": [
    "import pandas as pd\n",
    "\n",
    "df = pd.read_csv(\"coupons.csv\")\n",
    "\n",
    "# (Optional) Map columns to numeric if needed\n",
    "bar_mapping = {'never':0, 'less1':0.5, '1~3':2, '4~8':6, 'gt8':9}\n",
    "df['Bar_num'] = df['Bar'].map(bar_mapping)\n",
    "\n",
    "age_mapping = {'below21':20, '21':21, '26-30':28, '31-40':35, '41-50':45, '50plus':55}\n",
    "df['Age_num'] = df['age'].map(age_mapping)\n",
    "\n",
    "restaurant20_mapping = {'never':0, 'less1':0.5, '1~3':2, '4~8':6, 'gt8':9}\n",
    "df['RestaurantLessThan20_num'] = df['RestaurantLessThan20'].map(restaurant20_mapping)\n",
    "\n",
    "income_mapping = {\n",
    "    'Less than $12500':12.5,\n",
    "    '$12500 - $24999':18.7,\n",
    "    '$25000 - $37499':31.2,\n",
    "    '$37500 - $49999':43.7,\n",
    "    '$50000 - $62499':56.2,\n",
    "    '$62500 - $74999':68.7,\n",
    "    '$75000 - $87499':81.2,\n",
    "    '$87500 - $99999':93.7,\n",
    "    '$100000 or more':100\n",
    "}\n",
    "df['Income_num'] = df['income'].map(income_mapping)\n",
    "\n",
    "# Define each condition\n",
    "condA = (\n",
    "    (df['Bar_num'] > 1) &\n",
    "    (df['passanger'] != 'Kid(s)') &  \n",
    "    (df['maritalStatus'] != 'Widowed')\n",
    ")\n",
    "condB = (\n",
    "    (df['Bar_num'] > 1) &\n",
    "    (df['Age_num'] < 30)\n",
    ")\n",
    "condC = (\n",
    "    (df['RestaurantLessThan20_num'] > 4) &\n",
    "    (df['Income_num'] < 50)\n",
    ")\n",
    "\n",
    "# Combine conditions with OR\n",
    "groupA_filter = condA | condB | condC\n",
    "\n",
    "# Split into Group A and Group B\n",
    "groupA = df[groupA_filter]\n",
    "groupB = df[~groupA_filter]\n",
    "\n",
    "# Calculate acceptance rates\n",
    "acceptance_A = groupA['Y'].mean()\n",
    "acceptance_B = groupB['Y'].mean()\n",
    "\n",
    "print(f\"Acceptance rate (Group A): {acceptance_A:.2f}\")\n",
    "print(f\"Acceptance rate (Group B): {acceptance_B:.2f}\")\n"
   ]
  },
  {
   "cell_type": "markdown",
   "metadata": {
    "id": "v3fL3QkO_qRK"
   },
   "source": [
    "7.  Based on these observations, what do you hypothesize about drivers who accepted the bar coupons?"
   ]
  },
  {
   "cell_type": "code",
   "execution_count": null,
   "metadata": {
    "id": "Y48naDFh_qRL"
   },
   "outputs": [],
   "source": [
    "drivers who already intergrate social drinlking into there nightlife tend to accept to accept more."
   ]
  },
  {
   "cell_type": "markdown",
   "metadata": {
    "id": "r4Hu1zOb_qRL"
   },
   "source": [
    "### Independent Investigation\n",
    "\n",
    "Using the bar coupon example as motivation, you are to explore one of the other coupon groups and try to determine the characteristics of passengers who accept the coupons.  "
   ]
  },
  {
   "cell_type": "code",
   "execution_count": 236,
   "metadata": {
    "id": "0c71cQhu_qRL"
   },
   "outputs": [
    {
     "name": "stdout",
     "output_type": "stream",
     "text": [
      "['Restaurant(<20)' 'Coffee House' 'Carry out & Take away' 'Bar'\n",
      " 'Restaurant(20-50)']\n"
     ]
    }
   ],
   "source": [
    "import pandas as pd\n",
    "\n",
    "df = pd.read_csv(\"coupons.csv\")\n",
    "\n",
    "\n",
    "coffee_df = df[df['coupon'] == 'Coffee House']\n",
    "print(df['coupon'].unique())\n"
   ]
  },
  {
   "cell_type": "code",
   "execution_count": 238,
   "metadata": {
    "id": "QEsBkvIN_qRL",
    "scrolled": true
   },
   "outputs": [
    {
     "name": "stdout",
     "output_type": "stream",
     "text": [
      "Overall acceptance rate for Coffee House coupons: 0.50\n"
     ]
    }
   ],
   "source": [
    " coffee_accept_rate = coffee_df['Y'].mean()\n",
    "print(f\"Overall acceptance rate for Coffee House coupons: {coffee_accept_rate:.2f}\")\n"
   ]
  },
  {
   "cell_type": "code",
   "execution_count": 240,
   "metadata": {
    "id": "fTC2WGE3_qRL"
   },
   "outputs": [
    {
     "name": "stdout",
     "output_type": "stream",
     "text": [
      "Unique passenger categories: ['Friend(s)' 'Kid(s)' 'Alone' 'Partner']\n",
      "Acceptance rates by passenger type:\n",
      " passanger\n",
      "Alone        0.437943\n",
      "Friend(s)    0.596906\n",
      "Kid(s)       0.483092\n",
      "Partner      0.570492\n",
      "Name: Y, dtype: float64\n"
     ]
    }
   ],
   "source": [
    " print(\"Unique passenger categories:\", coffee_df['passanger'].unique())\n",
    "\n",
    " accept_by_passenger = coffee_df.groupby('passanger')['Y'].mean()\n",
    "print(\"Acceptance rates by passenger type:\\n\", accept_by_passenger)\n"
   ]
  },
  {
   "cell_type": "code",
   "execution_count": 242,
   "metadata": {
    "id": "RrqUWn7d_qRL"
   },
   "outputs": [
    {
     "name": "stdout",
     "output_type": "stream",
     "text": [
      "Acceptance rates by occupation (Coffee House):\n",
      " occupation\n",
      "Healthcare Practitioners & Technical         0.743243\n",
      "Building & Grounds Cleaning & Maintenance    0.727273\n",
      "Student                                      0.625251\n",
      "Transportation & Material Moving             0.618421\n",
      "Healthcare Support                           0.615385\n",
      "Installation Maintenance & Repair            0.568182\n",
      "Architecture & Engineering                   0.555556\n",
      "Farming Fishing & Forestry                   0.545455\n",
      "Unemployed                                   0.542105\n",
      "Arts Design Entertainment Sports & Media     0.507177\n",
      "Computer & Mathematical                      0.503341\n",
      "Personal Care & Service                      0.500000\n",
      "Business & Financial                         0.479452\n",
      "Construction & Extraction                    0.478261\n",
      "Life Physical Social Science                 0.475410\n",
      "Management                                   0.456376\n",
      "Protective Service                           0.448276\n",
      "Food Preparation & Serving Related           0.445783\n",
      "Education&Training&Library                   0.435811\n",
      "Office & Administrative Support              0.431472\n",
      "Retired                                      0.402439\n",
      "Sales & Related                              0.391549\n",
      "Legal                                        0.376812\n",
      "Production Occupations                       0.357143\n",
      "Community & Social Services                  0.351351\n",
      "Name: Y, dtype: float64\n"
     ]
    }
   ],
   "source": [
    "accept_by_occupation = coffee_df.groupby('occupation')['Y'].mean().sort_values(ascending=False)\n",
    "print(\"Acceptance rates by occupation (Coffee House):\\n\", accept_by_occupation)\n"
   ]
  },
  {
   "cell_type": "code",
   "execution_count": 244,
   "metadata": {
    "id": "_oykf8YP_qRL",
    "scrolled": true
   },
   "outputs": [
    {
     "name": "stdout",
     "output_type": "stream",
     "text": [
      "Acceptance rates by age (Coffee House):\n",
      " age\n",
      "below21    0.696774\n",
      "21         0.524349\n",
      "26         0.514828\n",
      "46         0.513636\n",
      "41         0.501538\n",
      "31         0.476726\n",
      "36         0.467662\n",
      "50plus     0.420183\n",
      "Name: Y, dtype: float64\n"
     ]
    }
   ],
   "source": [
    "\n",
    "accept_by_age = coffee_df.groupby('age')['Y'].mean().sort_values(ascending=False)\n",
    "print(\"Acceptance rates by age (Coffee House):\\n\", accept_by_age)\n"
   ]
  },
  {
   "cell_type": "code",
   "execution_count": 27,
   "metadata": {},
   "outputs": [
    {
     "data": {
      "image/png": "[encoded data removed]",
      "text/plain": [
       "<Figure size 1600x800 with 1 Axes>"
      ]
     },
     "metadata": {},
     "output_type": "display_data"
    }
   ],
   "source": [
    "import matplotlib.pyplot as plt\n",
    "import seaborn as sns\n",
    "\n",
    "# Create a larger bar chart for acceptance rates by Passenger Type, Age, and Occupation\n",
    "plt.figure(figsize=(16, 8))  # Increased figure size for better visibility\n",
    "\n",
    "# Create a bar plot without extra x-axis space\n",
    "sns.barplot(data=acceptance_data, x=\"Category\", y=\"Acceptance Rate\", hue=\"Group\", palette=\"coolwarm\")\n",
    "\n",
    "# Labels and title\n",
    "plt.xlabel(\"Category\", fontsize=16)\n",
    "plt.ylabel(\"Acceptance Rate\", fontsize=16)\n",
    "plt.title(\"Acceptance Rates for Coffee House Coupons by Passenger Type, Age, and Occupation\", fontsize=18)\n",
    "plt.xticks(rotation=45, fontsize=14, ha=\"right\")  # Rotate and align labels properly\n",
    "plt.yticks(fontsize=14)\n",
    "plt.legend(title=\"Group\", fontsize=12, bbox_to_anchor=(1.05, 1), loc=\"upper left\")\n",
    "\n",
    "# Extend the y-axis for better visibility\n",
    "plt.ylim(0, 1.3)  # Adjusted to make the y-axis longer\n",
    "plt.grid(axis='y', linestyle='--', alpha=0.6)\n",
    "plt.tight_layout()\n",
    "\n",
    "# Show the plot\n",
    "plt.show()\n",
    "\n",
    "\n",
    "\n",
    "\n",
    "\n",
    "\n"
   ]
  },
  {
   "cell_type": "code",
   "execution_count": null,
   "metadata": {},
   "outputs": [],
   "source": []
  }
 ],
 "metadata": {
  "colab": {
   "provenance": []
  },
  "kernelspec": {
   "display_name": "Python 3 (ipykernel)",
   "language": "python",
   "name": "python3"
  },
  "language_info": {
   "codemirror_mode": {
    "name": "ipython",
    "version": 3
   },
   "file_extension": ".py",
   "mimetype": "text/x-python",
   "name": "python",
   "nbconvert_exporter": "python",
   "pygments_lexer": "ipython3",
   "version": "3.12.7"
  }
 },
 "nbformat": 4,
 "nbformat_minor": 4
}
